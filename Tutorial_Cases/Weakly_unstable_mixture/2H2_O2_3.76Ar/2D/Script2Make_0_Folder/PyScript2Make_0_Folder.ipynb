{
 "cells": [
  {
   "cell_type": "code",
   "execution_count": 1,
   "id": "4580f71c",
   "metadata": {},
   "outputs": [],
   "source": [
    "import numpy as np\n",
    "import time,sys\n",
    "import datetime, string \n",
    "import cmath\n",
    "import os\n",
    "import warnings\n",
    "from matplotlib import pyplot as plt\n",
    "from matplotlib import rc\n",
    "from matplotlib.ticker import LogLocator\n",
    "from IPython.core.pylabtools import figsize\n",
    "from scipy import signal, misc,mean\n",
    "from math import factorial\n",
    "from operator import itemgetter, attrgetter\n",
    "import matplotlib.lines as mlines\n",
    "import glob\n",
    "#from scipy.stats import nanmean\n",
    "from matplotlib import colorbar\n",
    "import scipy.interpolate\n",
    "#from mpl_toolkits.mplot3d import Axes3D\n",
    "from scipy.interpolate import griddata\n",
    "from scipy import ndimage\n",
    "#from matplotlib.ticker import FormatStrFormatter\n",
    "import numpy.ma as ma\n",
    "import operator\n",
    "from scipy import interpolate\n",
    "from itertools import repeat"
   ]
  },
  {
   "cell_type": "code",
   "execution_count": 2,
   "id": "362413cc",
   "metadata": {},
   "outputs": [],
   "source": [
    "#rc('font',**{'family':'serif','serif':['Computer Modern Roman']})\n",
    "#rc('text', usetex=True)\n",
    "lsize = 12\n",
    "\n",
    "from tkinter import Tk\n",
    "from tkinter.filedialog import askopenfilename"
   ]
  },
  {
   "cell_type": "code",
   "execution_count": 3,
   "id": "8b883870",
   "metadata": {},
   "outputs": [],
   "source": [
    "dataZND = np.loadtxt(\"zndkin_Ys_cropped.dat\", dtype='float',skiprows=1)\n",
    "header = np.loadtxt(\"zndkin_Ys_cropped.dat\", dtype='str',skiprows=0)\n",
    "header = header[0,:]\n",
    "\n",
    "## Defining variables from ZND data file\n",
    "x = dataZND[:,0] \t#length in m\n",
    "M = dataZND[:,1] \t#Mach number\n",
    "U = dataZND[:,2] \t#axial velocity in m/s\n",
    "p = dataZND[:,3] \t#pressure in Pa\n",
    "T = dataZND[:,4] \t#Temperature in K\n",
    "rho = dataZND[:,5] \t#density in kg/m3"
   ]
  },
  {
   "cell_type": "code",
   "execution_count": 4,
   "id": "8a14be8f",
   "metadata": {},
   "outputs": [
    {
     "name": "stdout",
     "output_type": "stream",
     "text": [
      "['X(m)' 'Mach' 'V(m/s)' 'P(Pa)' 'T(K)' 'Rho(kg/m3)' 'H' 'H2' 'O' 'O2' 'OH'\n",
      " 'HO2' 'AR' 'H2O' 'Therm(1/s)']\n"
     ]
    },
    {
     "data": {
      "image/png": "[encoded data removed]",
      "text/plain": [
       "<Figure size 432x288 with 4 Axes>"
      ]
     },
     "metadata": {
      "needs_background": "light"
     },
     "output_type": "display_data"
    },
    {
     "name": "stdout",
     "output_type": "stream",
     "text": [
      "1804.2608\n"
     ]
    },
    {
     "data": {
      "image/png": "[encoded data removed]",
      "text/plain": [
       "<Figure size 432x288 with 1 Axes>"
      ]
     },
     "metadata": {
      "needs_background": "light"
     },
     "output_type": "display_data"
    }
   ],
   "source": [
    "print(header)\n",
    "\n",
    "## ZND plots\n",
    "plt.subplot(221)\n",
    "plt.plot(x*100,M)\n",
    "plt.xlabel('x, cm')\n",
    "plt.ylabel('M')\n",
    "\n",
    "plt.subplot(222)\n",
    "plt.plot(x,U)\n",
    "plt.xlabel('x, m')\n",
    "plt.ylabel('U, m/s')\n",
    "\n",
    "plt.subplot(223)\n",
    "plt.plot(x,p)\n",
    "plt.xlabel('x, m')\n",
    "plt.ylabel('p, Pa')\n",
    "\n",
    "plt.subplot(224)\n",
    "plt.plot(x,T)\n",
    "plt.xlabel('x, m')\n",
    "plt.ylabel('T, K')\n",
    "\n",
    "plt.suptitle(\"ZND (as is)\")\n",
    "plt.subplots_adjust(left=0.1,bottom=0.1, right=0.9, top=0.9, wspace=0.4, hspace=0.4)\n",
    "plt.show()\n",
    "\n",
    "## ZND plot (lab frame of reference)\n",
    "plt.plot(x,-U + U[0])\n",
    "plt.xlabel('x, m')\n",
    "plt.ylabel('U, m/s')\n",
    "print(U[0])\n",
    "plt.title(\"ZND (lab frame of ref)\")\n",
    "plt.show()"
   ]
  },
  {
   "cell_type": "code",
   "execution_count": 5,
   "id": "9392fff8",
   "metadata": {},
   "outputs": [
    {
     "name": "stdout",
     "output_type": "stream",
     "text": [
      "0.01\n"
     ]
    }
   ],
   "source": [
    "## ZND domain length and induction length from ZND calc ##\n",
    "lx = x[-1] \t     \t\t\t#ZND domain length from data file in [m] - Input\n",
    "print(lx)\n",
    "## SWJ\n",
    "lind = 2.40e-4       \t\t\t#ZND induction length from data file in [m] - Input  ## VICKY\n",
    "## exact value from ZND is: 0.00023957 m\n",
    "res = 24 \t     \t\t\t#pts per induction length lind - Input\n",
    "dx = lind/res\t     \t\t\t#spatial resolution \t\n",
    "x_znd = int(lx/dx)   \t\t\t#number of points in ZND profile\n",
    "x_inflow = int(0.275*x_znd + 1) \t\t\t#number of points ahead of det wave - Input ## VICKY\n",
    "x_outflow = int(0.275*x_znd + 1)\t\t\t#number of points behind to avoid BC interacting with det. wave  ## VICKY\n",
    "nxpts = x_inflow + x_znd + x_outflow\t#number of points full domain\t \n",
    "length = dx*nxpts\t\t\t#physical length of full domain [m]\n",
    "x_new = np.linspace(0,lx,num=x_znd+1)   #interpolation array with uniform resolution\n",
    "domLengthBM = 1.55*lx\t\t\t#domain length for blockMesh - to be modified based on Inputs   ## VICKY"
   ]
  },
  {
   "cell_type": "code",
   "execution_count": 6,
   "id": "b21a8c2e",
   "metadata": {
    "scrolled": true
   },
   "outputs": [
    {
     "name": "stdout",
     "output_type": "stream",
     "text": [
      "0.01\n",
      "1e-05\n",
      "999\n",
      "275\n",
      "275\n",
      "1549\n",
      "0.015490000000000002\n",
      "0.015500000000000002\n",
      "1000\n",
      "0.01\n"
     ]
    }
   ],
   "source": [
    "print(lx)\n",
    "print(dx)\n",
    "print(x_znd)\n",
    "print(x_inflow)\n",
    "print(x_outflow)\n",
    "print(nxpts)\n",
    "print(length)\n",
    "print(domLengthBM)\n",
    "print(np.size(x_new))\n",
    "print(x_new[-1])"
   ]
  },
  {
   "cell_type": "code",
   "execution_count": 7,
   "id": "d666abc8",
   "metadata": {},
   "outputs": [
    {
     "name": "stdout",
     "output_type": "stream",
     "text": [
      "2248\n"
     ]
    }
   ],
   "source": [
    "##------------------------------------------\n",
    "#nypts = 1 # number of rows in y for 2D cases\n",
    "Ly = 22.5e-3 # in metres\n",
    "nypts = int(Ly/dx)-1 # number of rows in y for 2D cases\n",
    "print(nypts)\n",
    "##------------------------------------------"
   ]
  },
  {
   "cell_type": "code",
   "execution_count": 8,
   "id": "9c442704",
   "metadata": {},
   "outputs": [
    {
     "name": "stdout",
     "output_type": "stream",
     "text": [
      "999 999.9999999999999 0.01 1549 0.015490000000000002 0.015500000000000002 0.015500000000000002\n"
     ]
    }
   ],
   "source": [
    "print(x_znd, lx/dx, lx, nxpts, length, length+dx, domLengthBM)"
   ]
  },
  {
   "cell_type": "code",
   "execution_count": 9,
   "id": "020dc9ef",
   "metadata": {
    "scrolled": true
   },
   "outputs": [
    {
     "name": "stdout",
     "output_type": "stream",
     "text": [
      "(1550,) (1550,)\n"
     ]
    },
    {
     "data": {
      "image/png": "[encoded data removed]",
      "text/plain": [
       "<Figure size 432x288 with 1 Axes>"
      ]
     },
     "metadata": {
      "needs_background": "light"
     },
     "output_type": "display_data"
    }
   ],
   "source": [
    "## Defining interpolation function\n",
    "fU = interpolate.interp1d(x[1:],U[1:])\n",
    "fp = interpolate.interp1d(x[1:],p[1:])\n",
    "fT = interpolate.interp1d(x[1:],T[1:])\n",
    "\n",
    "## New ZND interpolated array\n",
    "U_new = fU(x_new)-U[0] #changing to lab. frame of reference\n",
    "p_new = fp(x_new)\n",
    "T_new = fT(x_new)\n",
    "\n",
    "## Setting values ahead of det. wave (inflow) : zero velocity!\n",
    "U_inflow = np.ones(x_inflow)*U[0]*0\n",
    "p_inflow = np.ones(x_inflow)*p[0]\n",
    "T_inflow = np.ones(x_inflow)*T[0]\n",
    "\n",
    "## Setting values behind of det. wave (outflow) : merely extending the profile from tail of ZND\n",
    "U_outflow = np.ones(x_outflow)*U_new[-1]\n",
    "p_outflow = np.ones(x_outflow)*p[-1]\n",
    "T_outflow = np.ones(x_outflow)*T[-1]\n",
    "\n",
    "# Full array inflow + znd wave\n",
    "#  r_ does row-wise merging\n",
    "U_new = np.r_[U_inflow,U_new,U_outflow] + U[0]; # converting to shock frame of reference\n",
    "p_new = np.r_[p_inflow,p_new,p_outflow]\n",
    "T_new = np.r_[T_inflow,T_new,T_outflow]\n",
    "\n",
    "#U_new = np.r_[U_inflow,U_new] + U[0]; # converting to shock frame of reference\n",
    "#p_new = np.r_[p_inflow,p_new]\n",
    "#T_new = np.r_[T_inflow,T_new]\n",
    "\n",
    "## shock frame of reference plots\n",
    "aa=np.linspace(0,domLengthBM,num=nxpts+1)\n",
    "print(aa.shape,U_new.shape)\n",
    "plt.plot(aa,U_new)\n",
    "plt.xlabel('x, m')\n",
    "plt.ylabel('U_s, m/s')\n",
    "\n",
    "plt.title(\"Final ZND profile to be imposed on the domain along x\")\n",
    "plt.show()\n"
   ]
  },
  {
   "cell_type": "code",
   "execution_count": 10,
   "id": "c4c7958f",
   "metadata": {},
   "outputs": [],
   "source": [
    "## Writing to file\n",
    "znd_U = np.savetxt('znd_U.txt',np.transpose(np.tile(U_new,nypts)),delimiter=' ',fmt=\"%s\",header='U (m/s)')\n",
    "znd_p = np.savetxt('znd_p.txt',np.transpose(np.tile(p_new,nypts)),delimiter=' ',header='p (Pa)')\n",
    "znd_T = np.savetxt('znd_T.txt',np.transpose(np.tile(T_new,nypts)),delimiter=' ',header='T (K)')\n"
   ]
  },
  {
   "cell_type": "code",
   "execution_count": 11,
   "id": "f2d6f0dd",
   "metadata": {},
   "outputs": [],
   "source": [
    "znd_UU = np.savetxt('znd_UU.txt',np.transpose(np.tile(U_new,1)),delimiter=' ',fmt=\"%s\",header='U (m/s)')"
   ]
  },
  {
   "cell_type": "code",
   "execution_count": 12,
   "id": "b102961e",
   "metadata": {},
   "outputs": [],
   "source": [
    "with open('zndInputSim-report.txt', 'w') as g:\n",
    "    g.write('p max, p min = {}, {} \\n' .format(np.max(p_new), np.min(p_new)))\n",
    "    g.write('T max, T min = {}, {} \\n' .format(np.max(T_new), np.min(T_new)))\n",
    "    g.write('Dcj, U_znd, U max, U min = {}, {}, {}, {} \\n' .format(U[0], U[1], np.max(U_new), np.min(U_new)))"
   ]
  },
  {
   "cell_type": "code",
   "execution_count": 13,
   "id": "724722bb",
   "metadata": {},
   "outputs": [
    {
     "name": "stdout",
     "output_type": "stream",
     "text": [
      "['H' 'H2' 'O' 'O2' 'OH' 'HO2' 'AR' 'H2O']\n",
      "[ 6  7  8  9 10 11 12 13]\n"
     ]
    }
   ],
   "source": [
    "## Species loop\n",
    "#Array with species names  \n",
    "speciesNames = header[6:-1]\n",
    "print(speciesNames)\n",
    "\n",
    "#Column numbers corresponding to species data\n",
    "dataColsSpecs = np.arange(6,len(header)-1, 1)\n",
    "#print dataColsSpecs, len(header)\n",
    "print(dataColsSpecs)"
   ]
  },
  {
   "cell_type": "code",
   "execution_count": 14,
   "id": "f7601a18",
   "metadata": {},
   "outputs": [],
   "source": [
    "with open('zndInputSim-report.txt', 'a+') as g:\n",
    "    for k in range(len(speciesNames)):\n",
    "\n",
    "        Y = dataZND[:,dataColsSpecs[k]] #mass fraction of Y_i\n",
    "\n",
    "        f = interpolate.interp1d(x[1:],Y[1:])   #creating 1D interpolation function \n",
    "\n",
    "        Y_new = f(x_new) #evaluation of interpolation with new spatial array size \n",
    "\n",
    "        Y_inflow = np.ones(x_inflow)*Y[0] #setting inflow/conditions ahead of det. wave\n",
    "\n",
    "        Y_outflow = np.ones(x_outflow)*Y[-1] #setting outflow/conditions behind of det. wave\n",
    "\n",
    "        Y_new = np.r_[Y_inflow,Y_new,Y_outflow] #creating full array \n",
    "        #Y_new = np.r_[Y_inflow,Y_new]\n",
    "        \n",
    "        g.write('{}, {}, {} \\n' .format(speciesNames[k], np.max(Y_new), np.min(Y_new)))\n",
    "\n",
    "        #print >>g, speciesNames[k], max(Y_new), min(Y_new)\n",
    "\n",
    "        np.savetxt('znd_'+speciesNames[k]+'.txt',np.transpose(np.tile(Y_new,nypts)),delimiter=' ',header='Y'+speciesNames[k]+'(-)')             #saving data to disk\n"
   ]
  },
  {
   "cell_type": "code",
   "execution_count": 15,
   "id": "b0d32b30",
   "metadata": {},
   "outputs": [
    {
     "name": "stdout",
     "output_type": "stream",
     "text": [
      "1550 1550 1550 1550\n"
     ]
    }
   ],
   "source": [
    "# ========================================== #\n",
    "## ===== WRITING OpenFOAM READY FILES ===== ##\n",
    "# ========================================== #\n",
    "\n",
    "# Creating folder to store OpenFOAM ready files\n",
    "pathSAVE = '0/'\n",
    "try: \n",
    "    os.makedirs(pathSAVE)\n",
    "except OSError:\n",
    "    if not os.path.isdir(pathSAVE):\n",
    "        raise\n",
    "\n",
    "#species = [ 'H', 'H2', 'O', 'OH', 'N2O', 'N2', 'H2O']\n",
    "\n",
    "#array length\n",
    "nxpts = len(Y_new)\n",
    "\n",
    "with open('zndInputSim-report.txt', 'a+') as g:\n",
    "    g.write('Domain length and number of points for blockMesh, nx and ny {}, {}, {} and {}' .format(domLengthBM, Ly, nxpts, nypts))\n",
    "    g.close()\n",
    "\n",
    "print(len(p_new), len(T_new), len(U_new), len(Y_new))\n",
    "#print species, len(species)"
   ]
  },
  {
   "cell_type": "code",
   "execution_count": 16,
   "id": "cbcefe6f",
   "metadata": {},
   "outputs": [
    {
     "name": "stdout",
     "output_type": "stream",
     "text": [
      "3484400\n"
     ]
    }
   ],
   "source": [
    "data = np.loadtxt(\"znd_\"+speciesNames[0]+\".txt\", dtype='float',skiprows=1)\n",
    "print(len(data))"
   ]
  },
  {
   "cell_type": "code",
   "execution_count": 17,
   "id": "f3392ca4",
   "metadata": {},
   "outputs": [],
   "source": [
    "for j in range(len(speciesNames)):\n",
    "    data = np.loadtxt(\"znd_\"+speciesNames[j]+\".txt\", dtype='float',skiprows=1)\n",
    "\n",
    "    #print len(data)\n",
    "\n",
    "    #h = open(pathSAVE+speciesNames[j], 'a+')\n",
    "    with open(pathSAVE+speciesNames[j], 'a+') as h:\n",
    "        h.write('/*--------------------------------*- C++ -*----------------------------------*\\ \\n')\n",
    "        h.write('| =========                 |                                                 | \\n')\n",
    "        h.write('| \\\\\\      /  F ield         | OpenFOAM: The Open Source CFD Toolbox           | \\n')\n",
    "        h.write('|  \\\\\\    /   O peration     | Version:  2.2.1                                 | \\n')\n",
    "        h.write('|   \\\\\\  /    A nd           | Web:      www.OpenFOAM.org                      | \\n')\n",
    "        h.write('|    \\\\\\/     M anipulation  |                                                 | \\n')\n",
    "        h.write('\\*---------------------------------------------------------------------------*/ \\n')\n",
    "        h.write('FoamFile\\n')\n",
    "        h.write('{\\n')\n",
    "        h.write('    version     2.0;\\n')\n",
    "        h.write('    format      ascii;\\n')\n",
    "        h.write('    class       volScalarField;\\n')\n",
    "        h.write('    location    \"0\";\\n')\n",
    "        h.write('    object      '+speciesNames[j]+';\\n')\n",
    "        h.write('}\\n')\n",
    "        h.write('// * * * * * * * * * * * * * * * * * * * * * * * * * * * * * * * * * * * * * //\\n')\n",
    "        h.write('\\n')\n",
    "        h.write('dimensions      [0 0 0 0 0 0 0];\\n')\n",
    "        h.write('\\n')\n",
    "        h.write('internalField   nonuniform List<scalar>\\n')\n",
    "        h.write('{}' .format(nxpts*nypts))\n",
    "        h.write('(\\n')\n",
    "        for k in range(len(data)):\n",
    "            h.write('{} \\n' .format(data[k]))\n",
    "        h.write(')\\n')\n",
    "        h.write(';\\n')\n",
    "        h.write('\\n')\n",
    "        h.write('boundaryField\\n')\n",
    "        h.write('{\\n')\n",
    "        h.write('    leftWall\\n')\n",
    "        h.write('    {\\n')\n",
    "        h.write('        type            fixedValue;\\n')\n",
    "        h.write('        value           uniform '+str(dataZND[0,dataColsSpecs[j]])+';\\n')\n",
    "        h.write('    }\\n')\n",
    "        h.write('    rightWall\\n')\n",
    "        h.write('    {\\n')\n",
    "        h.write('        type            zeroGradient;\\n')\n",
    "        h.write('    }\\n')\n",
    "        h.write('    bottomWall\\n')\n",
    "        h.write('    {\\n')\n",
    "        h.write('        type            zeroGradient;\\n')\n",
    "        h.write('    }\\n')\n",
    "        h.write('    topWall\\n')\n",
    "        h.write('    {\\n')\n",
    "        h.write('        type            zeroGradient;\\n')\n",
    "        h.write('    }\\n')\n",
    "        h.write('    frontWall\\n')\n",
    "        h.write('    {\\n')\n",
    "        h.write('        type            empty;\\n')\n",
    "        h.write('    }\\n')\n",
    "        h.write('    backWall\\n')\n",
    "        h.write('    {\\n')\n",
    "        h.write('        type            empty;\\n')\n",
    "        h.write('    }\\n')\n",
    "        h.write('}\\n')\n",
    "        h.write('\\n')\n",
    "        h.write('\\n')\n",
    "        h.write('// ************************************************************************* //\\n')\n",
    "        h.close()"
   ]
  },
  {
   "cell_type": "code",
   "execution_count": 18,
   "id": "ad57a243",
   "metadata": {},
   "outputs": [
    {
     "ename": "SystemExit",
     "evalue": "",
     "output_type": "error",
     "traceback": [
      "An exception has occurred, use %tb to see the full traceback.\n",
      "\u001b[1;31mSystemExit\u001b[0m\n"
     ]
    },
    {
     "name": "stderr",
     "output_type": "stream",
     "text": [
      "C:\\ProgramData\\Anaconda3\\lib\\site-packages\\IPython\\core\\interactiveshell.py:3452: UserWarning: To exit: use 'exit', 'quit', or Ctrl-D.\n",
      "  warn(\"To exit: use 'exit', 'quit', or Ctrl-D.\", stacklevel=1)\n"
     ]
    }
   ],
   "source": [
    "data = np.loadtxt(\"znd_p.txt\", dtype='float',skiprows=1)\n",
    "\n",
    "#print len(data)\n",
    "\n",
    "with open(pathSAVE+'p', 'a+') as h:\n",
    "    h.write('/*--------------------------------*- C++ -*----------------------------------*\\ \\n')\n",
    "    h.write('| =========                 |                                                 | \\n')\n",
    "    h.write('| \\\\\\      /  F ield         | OpenFOAM: The Open Source CFD Toolbox           | \\n')\n",
    "    h.write('|  \\\\\\    /   O peration     | Version:  2.2.1                                 | \\n')\n",
    "    h.write('|   \\\\\\  /    A nd           | Web:      www.OpenFOAM.org                      | \\n')\n",
    "    h.write('|    \\\\\\/     M anipulation  |                                                 | \\n')\n",
    "    h.write('\\*---------------------------------------------------------------------------*/ \\n')\n",
    "    h.write('FoamFile\\n')\n",
    "    h.write('{\\n')\n",
    "    h.write('    version     2.0;\\n')\n",
    "    h.write('    format      ascii;\\n')\n",
    "    h.write('    class       volScalarField;\\n')\n",
    "    h.write('    location    \"0\";\\n')\n",
    "    h.write('    object      p;\\n')\n",
    "    h.write('}\\n')\n",
    "    h.write('// * * * * * * * * * * * * * * * * * * * * * * * * * * * * * * * * * * * * * //\\n')\n",
    "    h.write('\\n') \n",
    "    h.write('dimensions      [1 -1 -2 0 0 0 0];\\n')\n",
    "    h.write('\\n') \n",
    "    h.write('internalField   nonuniform List<scalar>\\n')\n",
    "    h.write('{}' .format(nxpts*nypts))\n",
    "    h.write('(\\n')\n",
    "    for k in range(len(data)):\n",
    "        h.write('{} \\n' .format(data[k]))\n",
    "    h.write(')\\n')\n",
    "    h.write(';\\n')\n",
    "    h.write('\\n')\n",
    "    h.write('boundaryField\\n')\n",
    "    h.write('{\\n')\n",
    "    h.write('    leftWall\\n')\n",
    "    h.write('    {\\n')\n",
    "    h.write('        type            fixedValue;\\n')\n",
    "    h.write('        value           uniform '+str(dataZND[0,3])+';\\n')\n",
    "    h.write('    }\\n')\n",
    "    h.write('    rightWall\\n')\n",
    "    h.write('    {\\n')\n",
    "    h.write('        type            zeroGradient;\\n')\n",
    "    h.write('    }\\n')\n",
    "    h.write('    bottomWall\\n')\n",
    "    h.write('    {\\n')\n",
    "    h.write('        type            zeroGradient;\\n')\n",
    "    h.write('    }\\n')\n",
    "    h.write('    topWall\\n')\n",
    "    h.write('    {\\n')\n",
    "    h.write('        type            zeroGradient;\\n')\n",
    "    h.write('    }\\n')\n",
    "    h.write('    frontWall\\n')\n",
    "    h.write('    {\\n')\n",
    "    h.write('        type            empty;\\n')\n",
    "    h.write('    }\\n')\n",
    "    h.write('    backWall\\n')\n",
    "    h.write('    {\\n')\n",
    "    h.write('        type            empty;\\n')\n",
    "    h.write('    }\\n')\n",
    "    h.write('}\\n')\n",
    "    h.write('\\n')\n",
    "    h.write('\\n')\n",
    "    h.write('// ************************************************************************* //\\n')\n",
    "    h.close()\n",
    "\n",
    "\n",
    "\n",
    "data = np.loadtxt(\"znd_T.txt\", dtype='float',skiprows=1)\n",
    "\n",
    "#print len(data)\n",
    "\n",
    "with open(pathSAVE+'T', 'a+') as h:\n",
    "    h.write('/*--------------------------------*- C++ -*----------------------------------*\\ \\n')\n",
    "    h.write('| =========                 |                                                 | \\n')\n",
    "    h.write('| \\\\\\      /  F ield         | OpenFOAM: The Open Source CFD Toolbox           | \\n')\n",
    "    h.write('|  \\\\\\    /   O peration     | Version:  2.2.1                                 | \\n')\n",
    "    h.write('|   \\\\\\  /    A nd           | Web:      www.OpenFOAM.org                      | \\n')\n",
    "    h.write('|    \\\\\\/     M anipulation  |                                                 | \\n')\n",
    "    h.write('\\*---------------------------------------------------------------------------*/ \\n')\n",
    "    h.write('FoamFile\\n')\n",
    "    h.write('{\\n')\n",
    "    h.write('    version     2.0;\\n')\n",
    "    h.write('    format      ascii;\\n')\n",
    "    h.write('    class       volScalarField;\\n')\n",
    "    h.write('    location    \"0\";\\n')\n",
    "    h.write('    object      T;\\n')\n",
    "    h.write('}\\n')\n",
    "    h.write('// * * * * * * * * * * * * * * * * * * * * * * * * * * * * * * * * * * * * * //\\n')\n",
    "    h.write('\\n') \n",
    "    h.write('dimensions      [0 0 0 1 0 0 0];\\n')\n",
    "    h.write('\\n') \n",
    "    h.write('internalField   nonuniform List<scalar>\\n')\n",
    "    h.write('{}' .format(nxpts*nypts))\n",
    "    h.write('(\\n')\n",
    "    for k in range(len(data)):\n",
    "        h.write('{} \\n' .format(data[k]))\n",
    "    h.write(')\\n')\n",
    "    h.write(';\\n')\n",
    "    h.write('\\n')\n",
    "    h.write('boundaryField\\n')\n",
    "    h.write('{\\n')\n",
    "    h.write('    leftWall\\n')\n",
    "    h.write('    {\\n')\n",
    "    h.write('        type            fixedValue;\\n')\n",
    "    h.write('        value           uniform ' + str(dataZND[0,4])+';\\n')\n",
    "    h.write('    }\\n')\n",
    "    h.write('    rightWall\\n')\n",
    "    h.write('    {\\n')\n",
    "    h.write('        type            zeroGradient;\\n')\n",
    "    h.write('    }\\n')\n",
    "    h.write('    bottomWall\\n')\n",
    "    h.write('    {\\n')\n",
    "    h.write('        type            zeroGradient;\\n')\n",
    "    h.write('    }\\n')\n",
    "    h.write('    topWall\\n')\n",
    "    h.write('    {\\n')\n",
    "    h.write('        type            zeroGradient;\\n')\n",
    "    h.write('    }\\n')\n",
    "    h.write('    frontWall\\n')\n",
    "    h.write('    {\\n')\n",
    "    h.write('        type            empty;\\n')\n",
    "    h.write('    }\\n')\n",
    "    h.write('    backWall\\n')\n",
    "    h.write('    {\\n')\n",
    "    h.write('        type            empty;\\n')\n",
    "    h.write('    }\\n')\n",
    "    h.write('}\\n')\n",
    "    h.write('\\n')\n",
    "    h.write('\\n')\n",
    "    h.write('// ************************************************************************* //\\n')\n",
    "    h.close()\n",
    "\n",
    "\n",
    "data = np.loadtxt(\"znd_U.txt\", dtype='float',skiprows=1)\n",
    "\n",
    "#print len(data)\n",
    "\n",
    "with open(pathSAVE+'U', 'a+') as h:\n",
    "    h.write('/*--------------------------------*- C++ -*----------------------------------*\\ \\n')\n",
    "    h.write('| =========                 |                                                 | \\n')\n",
    "    h.write('| \\\\\\      /  F ield         | OpenFOAM: The Open Source CFD Toolbox           | \\n')\n",
    "    h.write('|  \\\\\\    /   O peration     | Version:  2.2.1                                 | \\n')\n",
    "    h.write('|   \\\\\\  /    A nd           | Web:      www.OpenFOAM.org                      | \\n')\n",
    "    h.write('|    \\\\\\/     M anipulation  |                                                 | \\n')\n",
    "    h.write('\\*---------------------------------------------------------------------------*/ \\n')\n",
    "    h.write('FoamFile\\n')\n",
    "    h.write('{\\n')\n",
    "    h.write('    version     2.0;\\n')\n",
    "    h.write('    format      ascii;\\n')\n",
    "    h.write('    class       volVectorField;\\n')\n",
    "    h.write('    location    \"0\";\\n')\n",
    "    h.write('    object      U;\\n')\n",
    "    h.write('}\\n')\n",
    "    h.write('// * * * * * * * * * * * * * * * * * * * * * * * * * * * * * * * * * * * * * //\\n')\n",
    "    h.write('\\n') \n",
    "    h.write('dimensions      [0 1 -1 0 0 0 0];\\n')\n",
    "    h.write('\\n') \n",
    "    h.write('internalField   nonuniform List<vector>\\n')\n",
    "    h.write('{}' .format(nxpts*nypts))\n",
    "    h.write('(\\n')\n",
    "    for k in range(len(data)):\n",
    "        h.write('({} 0 0)\\n' .format(data[k]))\n",
    "    h.write(')\\n')\n",
    "    h.write(';\\n')\n",
    "    h.write('\\n')\n",
    "    h.write('boundaryField\\n')\n",
    "    h.write('{\\n')\n",
    "    h.write('    leftWall\\n')\n",
    "    h.write('    {\\n')\n",
    "    h.write('        type            fixedValue;\\n')\n",
    "    h.write('        value           uniform ('+str(dataZND[0,2])+' 0 0) ;\\n')\n",
    "    h.write('    }\\n')\n",
    "    h.write('    rightWall\\n')\n",
    "    h.write('    {\\n')\n",
    "    h.write('        type            zeroGradient;\\n')\n",
    "    h.write('    }\\n')\n",
    "    h.write('    bottomWall\\n')\n",
    "    h.write('    {\\n')\n",
    "    h.write('        type            slip;\\n')\n",
    "    h.write('    }\\n')\n",
    "    h.write('    topWall\\n')\n",
    "    h.write('    {\\n')\n",
    "    h.write('        type            slip;\\n')\n",
    "    h.write('    }\\n')\n",
    "    h.write('    frontWall\\n')\n",
    "    h.write('    {\\n')\n",
    "    h.write('        type            empty;\\n')\n",
    "    h.write('    }\\n')\n",
    "    h.write('    backWall\\n')\n",
    "    h.write('    {\\n')\n",
    "    h.write('        type            empty;\\n')\n",
    "    h.write('    }\\n')\n",
    "    h.write('}\\n')\n",
    "    h.write('\\n')\n",
    "    h.write('\\n')\n",
    "    h.write('// ************************************************************************* //\\n')\n",
    "    h.close()\n",
    "\n",
    "sys.exit()\n"
   ]
  },
  {
   "cell_type": "code",
   "execution_count": null,
   "id": "e2d23ef3",
   "metadata": {},
   "outputs": [],
   "source": []
  },
  {
   "cell_type": "code",
   "execution_count": null,
   "id": "48c59a7d",
   "metadata": {},
   "outputs": [],
   "source": []
  }
 ],
 "metadata": {
  "kernelspec": {
   "display_name": "Python 3 (ipykernel)",
   "language": "python",
   "name": "python3"
  },
  "language_info": {
   "codemirror_mode": {
    "name": "ipython",
    "version": 3
   },
   "file_extension": ".py",
   "mimetype": "text/x-python",
   "name": "python",
   "nbconvert_exporter": "python",
   "pygments_lexer": "ipython3",
   "version": "3.9.7"
  }
 },
 "nbformat": 4,
 "nbformat_minor": 5
}
